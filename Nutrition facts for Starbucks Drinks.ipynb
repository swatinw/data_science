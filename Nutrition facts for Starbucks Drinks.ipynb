{
 "cells": [
  {
   "cell_type": "markdown",
   "id": "a15ea46d",
   "metadata": {},
   "source": [
    "# Imports"
   ]
  },
  {
   "cell_type": "code",
   "execution_count": 145,
   "id": "b30ed559",
   "metadata": {},
   "outputs": [],
   "source": [
    "import pandas as pd\n",
    "import numpy as np\n",
    "import os\n",
    "import pickle\n",
    "import matplotlib.pyplot as plt\n",
    "import seaborn as sns\n",
    "from sklearn import __version__ as sklearn_version\n",
    "from sklearn.decomposition import PCA\n",
    "from sklearn.preprocessing import scale\n",
    "from sklearn.model_selection import train_test_split, cross_validate, GridSearchCV, learning_curve\n",
    "from sklearn.preprocessing import StandardScaler, MinMaxScaler\n",
    "from sklearn.dummy import DummyRegressor\n",
    "from sklearn.linear_model import LinearRegression\n",
    "from sklearn.ensemble import RandomForestRegressor\n",
    "from sklearn.metrics import r2_score, mean_squared_error, mean_absolute_error\n",
    "from sklearn.pipeline import make_pipeline\n",
    "from sklearn.impute import SimpleImputer\n",
    "from sklearn.feature_selection import SelectKBest, f_regression\n",
    "import datetime"
   ]
  },
  {
   "cell_type": "markdown",
   "id": "78f79626",
   "metadata": {},
   "source": [
    "# Load the Starbucks Data"
   ]
  },
  {
   "cell_type": "code",
   "execution_count": 146,
   "id": "3e3716ca",
   "metadata": {},
   "outputs": [
    {
     "data": {
      "text/html": [
       "<div>\n",
       "<style scoped>\n",
       "    .dataframe tbody tr th:only-of-type {\n",
       "        vertical-align: middle;\n",
       "    }\n",
       "\n",
       "    .dataframe tbody tr th {\n",
       "        vertical-align: top;\n",
       "    }\n",
       "\n",
       "    .dataframe thead th {\n",
       "        text-align: right;\n",
       "    }\n",
       "</style>\n",
       "<table border=\"1\" class=\"dataframe\">\n",
       "  <thead>\n",
       "    <tr style=\"text-align: right;\">\n",
       "      <th></th>\n",
       "      <th>Beverage_category</th>\n",
       "      <th>Beverage</th>\n",
       "      <th>Beverage_prep</th>\n",
       "      <th>Calories</th>\n",
       "      <th>Total Fat (g)</th>\n",
       "      <th>Trans Fat (g)</th>\n",
       "      <th>Saturated Fat (g)</th>\n",
       "      <th>Sodium (mg)</th>\n",
       "      <th>Total Carbohydrates (g)</th>\n",
       "      <th>Cholesterol (mg)</th>\n",
       "      <th>Dietary Fibre (g)</th>\n",
       "      <th>Sugars (g)</th>\n",
       "      <th>Protein (g)</th>\n",
       "      <th>Vitamin A (% DV)</th>\n",
       "      <th>Vitamin C (% DV)</th>\n",
       "      <th>Calcium (% DV)</th>\n",
       "      <th>Iron (% DV)</th>\n",
       "      <th>Caffeine (mg)</th>\n",
       "    </tr>\n",
       "  </thead>\n",
       "  <tbody>\n",
       "    <tr>\n",
       "      <th>0</th>\n",
       "      <td>Coffee</td>\n",
       "      <td>Brewed Coffee</td>\n",
       "      <td>Short</td>\n",
       "      <td>3</td>\n",
       "      <td>0.1</td>\n",
       "      <td>0.0</td>\n",
       "      <td>0.0</td>\n",
       "      <td>0</td>\n",
       "      <td>5</td>\n",
       "      <td>0</td>\n",
       "      <td>0</td>\n",
       "      <td>0</td>\n",
       "      <td>0.3</td>\n",
       "      <td>0%</td>\n",
       "      <td>0%</td>\n",
       "      <td>0%</td>\n",
       "      <td>0%</td>\n",
       "      <td>175</td>\n",
       "    </tr>\n",
       "    <tr>\n",
       "      <th>1</th>\n",
       "      <td>Coffee</td>\n",
       "      <td>Brewed Coffee</td>\n",
       "      <td>Tall</td>\n",
       "      <td>4</td>\n",
       "      <td>0.1</td>\n",
       "      <td>0.0</td>\n",
       "      <td>0.0</td>\n",
       "      <td>0</td>\n",
       "      <td>10</td>\n",
       "      <td>0</td>\n",
       "      <td>0</td>\n",
       "      <td>0</td>\n",
       "      <td>0.5</td>\n",
       "      <td>0%</td>\n",
       "      <td>0%</td>\n",
       "      <td>0%</td>\n",
       "      <td>0%</td>\n",
       "      <td>260</td>\n",
       "    </tr>\n",
       "    <tr>\n",
       "      <th>2</th>\n",
       "      <td>Coffee</td>\n",
       "      <td>Brewed Coffee</td>\n",
       "      <td>Grande</td>\n",
       "      <td>5</td>\n",
       "      <td>0.1</td>\n",
       "      <td>0.0</td>\n",
       "      <td>0.0</td>\n",
       "      <td>0</td>\n",
       "      <td>10</td>\n",
       "      <td>0</td>\n",
       "      <td>0</td>\n",
       "      <td>0</td>\n",
       "      <td>1.0</td>\n",
       "      <td>0%</td>\n",
       "      <td>0%</td>\n",
       "      <td>0%</td>\n",
       "      <td>0%</td>\n",
       "      <td>330</td>\n",
       "    </tr>\n",
       "    <tr>\n",
       "      <th>3</th>\n",
       "      <td>Coffee</td>\n",
       "      <td>Brewed Coffee</td>\n",
       "      <td>Venti</td>\n",
       "      <td>5</td>\n",
       "      <td>0.1</td>\n",
       "      <td>0.0</td>\n",
       "      <td>0.0</td>\n",
       "      <td>0</td>\n",
       "      <td>10</td>\n",
       "      <td>0</td>\n",
       "      <td>0</td>\n",
       "      <td>0</td>\n",
       "      <td>1.0</td>\n",
       "      <td>0%</td>\n",
       "      <td>0%</td>\n",
       "      <td>2%</td>\n",
       "      <td>0%</td>\n",
       "      <td>410</td>\n",
       "    </tr>\n",
       "    <tr>\n",
       "      <th>4</th>\n",
       "      <td>Classic Espresso Drinks</td>\n",
       "      <td>Caffè Latte</td>\n",
       "      <td>Short Nonfat Milk</td>\n",
       "      <td>70</td>\n",
       "      <td>0.1</td>\n",
       "      <td>0.1</td>\n",
       "      <td>0.0</td>\n",
       "      <td>5</td>\n",
       "      <td>75</td>\n",
       "      <td>10</td>\n",
       "      <td>0</td>\n",
       "      <td>9</td>\n",
       "      <td>6.0</td>\n",
       "      <td>10%</td>\n",
       "      <td>0%</td>\n",
       "      <td>20%</td>\n",
       "      <td>0%</td>\n",
       "      <td>75</td>\n",
       "    </tr>\n",
       "  </tbody>\n",
       "</table>\n",
       "</div>"
      ],
      "text/plain": [
       "         Beverage_category       Beverage      Beverage_prep  Calories  \\\n",
       "0                   Coffee  Brewed Coffee              Short         3   \n",
       "1                   Coffee  Brewed Coffee               Tall         4   \n",
       "2                   Coffee  Brewed Coffee             Grande         5   \n",
       "3                   Coffee  Brewed Coffee              Venti         5   \n",
       "4  Classic Espresso Drinks    Caffè Latte  Short Nonfat Milk        70   \n",
       "\n",
       "   Total Fat (g)  Trans Fat (g)   Saturated Fat (g)   Sodium (mg)  \\\n",
       "0            0.1             0.0                0.0             0   \n",
       "1            0.1             0.0                0.0             0   \n",
       "2            0.1             0.0                0.0             0   \n",
       "3            0.1             0.0                0.0             0   \n",
       "4            0.1             0.1                0.0             5   \n",
       "\n",
       "    Total Carbohydrates (g)   Cholesterol (mg)   Dietary Fibre (g)  \\\n",
       "0                          5                 0                   0   \n",
       "1                         10                 0                   0   \n",
       "2                         10                 0                   0   \n",
       "3                         10                 0                   0   \n",
       "4                         75                10                   0   \n",
       "\n",
       "    Sugars (g)   Protein (g)  Vitamin A (% DV)  Vitamin C (% DV)  \\\n",
       "0            0            0.3                0%               0%   \n",
       "1            0            0.5                0%               0%   \n",
       "2            0            1.0                0%               0%   \n",
       "3            0            1.0                0%               0%   \n",
       "4            9            6.0               10%               0%   \n",
       "\n",
       "   Calcium (% DV)  Iron (% DV)  Caffeine (mg)  \n",
       "0               0%           0%           175  \n",
       "1               0%           0%           260  \n",
       "2               0%           0%           330  \n",
       "3               2%           0%           410  \n",
       "4              20%           0%            75  "
      ]
     },
     "execution_count": 146,
     "metadata": {},
     "output_type": "execute_result"
    }
   ],
   "source": [
    "# read in the data\n",
    "df1 = pd.read_csv(\"/Users/swatisharma/Documents/GitHub/archive-2/starbucks_drinkMenu_expanded.csv\")\n",
    "\n",
    "\n",
    "#Call the head method on data to print the first several rows of the data\n",
    "df1.head()"
   ]
  },
  {
   "cell_type": "code",
   "execution_count": 147,
   "id": "6a3038b4",
   "metadata": {},
   "outputs": [
    {
     "name": "stdout",
     "output_type": "stream",
     "text": [
      "<class 'pandas.core.frame.DataFrame'>\n",
      "RangeIndex: 242 entries, 0 to 241\n",
      "Data columns (total 18 columns):\n",
      " #   Column                     Non-Null Count  Dtype  \n",
      "---  ------                     --------------  -----  \n",
      " 0   Beverage_category          242 non-null    object \n",
      " 1   Beverage                   242 non-null    object \n",
      " 2   Beverage_prep              242 non-null    object \n",
      " 3   Calories                   242 non-null    int64  \n",
      " 4    Total Fat (g)             242 non-null    object \n",
      " 5   Trans Fat (g)              242 non-null    float64\n",
      " 6   Saturated Fat (g)          242 non-null    float64\n",
      " 7    Sodium (mg)               242 non-null    int64  \n",
      " 8    Total Carbohydrates (g)   242 non-null    int64  \n",
      " 9   Cholesterol (mg)           242 non-null    int64  \n",
      " 10   Dietary Fibre (g)         242 non-null    int64  \n",
      " 11   Sugars (g)                242 non-null    int64  \n",
      " 12   Protein (g)               242 non-null    float64\n",
      " 13  Vitamin A (% DV)           242 non-null    object \n",
      " 14  Vitamin C (% DV)           242 non-null    object \n",
      " 15   Calcium (% DV)            242 non-null    object \n",
      " 16  Iron (% DV)                242 non-null    object \n",
      " 17  Caffeine (mg)              241 non-null    object \n",
      "dtypes: float64(3), int64(6), object(9)\n",
      "memory usage: 34.2+ KB\n"
     ]
    }
   ],
   "source": [
    "##Call the info method on data to see a summary of the data\n",
    "df1.info()"
   ]
  },
  {
   "cell_type": "code",
   "execution_count": 148,
   "id": "feaf74f8",
   "metadata": {},
   "outputs": [
    {
     "name": "stdout",
     "output_type": "stream",
     "text": [
      "<class 'pandas.core.frame.DataFrame'>\n",
      "RangeIndex: 242 entries, 0 to 241\n",
      "Data columns (total 18 columns):\n",
      " #   Column                 Non-Null Count  Dtype  \n",
      "---  ------                 --------------  -----  \n",
      " 0   Beverage_category      242 non-null    object \n",
      " 1   Beverage               242 non-null    object \n",
      " 2   Beverage_prep          242 non-null    object \n",
      " 3   Calories               242 non-null    int64  \n",
      " 4   TotalFat(g)            242 non-null    object \n",
      " 5   TransFat(g)            242 non-null    float64\n",
      " 6   SaturatedFat(g)        242 non-null    float64\n",
      " 7   Sodium(mg)             242 non-null    int64  \n",
      " 8   TotalCarbohydrates(g)  242 non-null    int64  \n",
      " 9   Cholesterol(mg)        242 non-null    int64  \n",
      " 10  DietaryFibre(g)        242 non-null    int64  \n",
      " 11  Sugars(g)              242 non-null    int64  \n",
      " 12  Protein(g)             242 non-null    float64\n",
      " 13  VitaminA(%DV)          242 non-null    object \n",
      " 14  VitaminC(%DV)          242 non-null    object \n",
      " 15  Calcium(%DV)           242 non-null    object \n",
      " 16  Iron(%DV)              242 non-null    object \n",
      " 17  Caffeine(mg)           241 non-null    object \n",
      "dtypes: float64(3), int64(6), object(9)\n",
      "memory usage: 34.2+ KB\n"
     ]
    }
   ],
   "source": [
    "# Replace and removing spaces from the column names\n",
    "df1.columns = df1.columns.str.replace(' ', '')\n",
    "df1.info()"
   ]
  },
  {
   "cell_type": "markdown",
   "id": "f081297b",
   "metadata": {},
   "source": [
    "# Number Of Missing Values By Column"
   ]
  },
  {
   "cell_type": "code",
   "execution_count": 149,
   "id": "16722461",
   "metadata": {},
   "outputs": [
    {
     "data": {
      "text/html": [
       "<div>\n",
       "<style scoped>\n",
       "    .dataframe tbody tr th:only-of-type {\n",
       "        vertical-align: middle;\n",
       "    }\n",
       "\n",
       "    .dataframe tbody tr th {\n",
       "        vertical-align: top;\n",
       "    }\n",
       "\n",
       "    .dataframe thead th {\n",
       "        text-align: right;\n",
       "    }\n",
       "</style>\n",
       "<table border=\"1\" class=\"dataframe\">\n",
       "  <thead>\n",
       "    <tr style=\"text-align: right;\">\n",
       "      <th></th>\n",
       "      <th>count</th>\n",
       "      <th>%</th>\n",
       "    </tr>\n",
       "  </thead>\n",
       "  <tbody>\n",
       "    <tr>\n",
       "      <th>Caffeine(mg)</th>\n",
       "      <td>1</td>\n",
       "      <td>0.413223</td>\n",
       "    </tr>\n",
       "    <tr>\n",
       "      <th>Beverage_category</th>\n",
       "      <td>0</td>\n",
       "      <td>0.000000</td>\n",
       "    </tr>\n",
       "    <tr>\n",
       "      <th>Beverage</th>\n",
       "      <td>0</td>\n",
       "      <td>0.000000</td>\n",
       "    </tr>\n",
       "    <tr>\n",
       "      <th>Beverage_prep</th>\n",
       "      <td>0</td>\n",
       "      <td>0.000000</td>\n",
       "    </tr>\n",
       "    <tr>\n",
       "      <th>Calories</th>\n",
       "      <td>0</td>\n",
       "      <td>0.000000</td>\n",
       "    </tr>\n",
       "    <tr>\n",
       "      <th>TotalFat(g)</th>\n",
       "      <td>0</td>\n",
       "      <td>0.000000</td>\n",
       "    </tr>\n",
       "    <tr>\n",
       "      <th>TransFat(g)</th>\n",
       "      <td>0</td>\n",
       "      <td>0.000000</td>\n",
       "    </tr>\n",
       "    <tr>\n",
       "      <th>SaturatedFat(g)</th>\n",
       "      <td>0</td>\n",
       "      <td>0.000000</td>\n",
       "    </tr>\n",
       "    <tr>\n",
       "      <th>Sodium(mg)</th>\n",
       "      <td>0</td>\n",
       "      <td>0.000000</td>\n",
       "    </tr>\n",
       "    <tr>\n",
       "      <th>TotalCarbohydrates(g)</th>\n",
       "      <td>0</td>\n",
       "      <td>0.000000</td>\n",
       "    </tr>\n",
       "    <tr>\n",
       "      <th>Cholesterol(mg)</th>\n",
       "      <td>0</td>\n",
       "      <td>0.000000</td>\n",
       "    </tr>\n",
       "    <tr>\n",
       "      <th>DietaryFibre(g)</th>\n",
       "      <td>0</td>\n",
       "      <td>0.000000</td>\n",
       "    </tr>\n",
       "    <tr>\n",
       "      <th>Sugars(g)</th>\n",
       "      <td>0</td>\n",
       "      <td>0.000000</td>\n",
       "    </tr>\n",
       "    <tr>\n",
       "      <th>Protein(g)</th>\n",
       "      <td>0</td>\n",
       "      <td>0.000000</td>\n",
       "    </tr>\n",
       "    <tr>\n",
       "      <th>VitaminA(%DV)</th>\n",
       "      <td>0</td>\n",
       "      <td>0.000000</td>\n",
       "    </tr>\n",
       "    <tr>\n",
       "      <th>VitaminC(%DV)</th>\n",
       "      <td>0</td>\n",
       "      <td>0.000000</td>\n",
       "    </tr>\n",
       "    <tr>\n",
       "      <th>Calcium(%DV)</th>\n",
       "      <td>0</td>\n",
       "      <td>0.000000</td>\n",
       "    </tr>\n",
       "    <tr>\n",
       "      <th>Iron(%DV)</th>\n",
       "      <td>0</td>\n",
       "      <td>0.000000</td>\n",
       "    </tr>\n",
       "  </tbody>\n",
       "</table>\n",
       "</div>"
      ],
      "text/plain": [
       "                       count         %\n",
       "Caffeine(mg)               1  0.413223\n",
       "Beverage_category          0  0.000000\n",
       "Beverage                   0  0.000000\n",
       "Beverage_prep              0  0.000000\n",
       "Calories                   0  0.000000\n",
       "TotalFat(g)                0  0.000000\n",
       "TransFat(g)                0  0.000000\n",
       "SaturatedFat(g)            0  0.000000\n",
       "Sodium(mg)                 0  0.000000\n",
       "TotalCarbohydrates(g)      0  0.000000\n",
       "Cholesterol(mg)            0  0.000000\n",
       "DietaryFibre(g)            0  0.000000\n",
       "Sugars(g)                  0  0.000000\n",
       "Protein(g)                 0  0.000000\n",
       "VitaminA(%DV)              0  0.000000\n",
       "VitaminC(%DV)              0  0.000000\n",
       "Calcium(%DV)               0  0.000000\n",
       "Iron(%DV)                  0  0.000000"
      ]
     },
     "execution_count": 149,
     "metadata": {},
     "output_type": "execute_result"
    }
   ],
   "source": [
    "#Count (using `.sum()`) the number of missing values (`.isnull()`) in each column of \n",
    "#data as well as the percentages (using `.mean()` instead of `.sum()`).\n",
    "#Order them (increasing or decreasing) using sort_values\n",
    "#Call `pd.concat` to present these in a single table (DataFrame) with the helpful column names 'count' and '%'\n",
    "missing = pd.concat([df1.isnull().sum(), 100 * df1.isnull().mean()], axis=1)\n",
    "missing.columns=[\"count\", \"%\"]\n",
    "missing.sort_values(by= [\"count\", \"%\"], ascending =[False, False], inplace = False)"
   ]
  },
  {
   "cell_type": "code",
   "execution_count": 250,
   "id": "56d4262a",
   "metadata": {},
   "outputs": [
    {
     "data": {
      "text/plain": [
       "0    100.0\n",
       "Name: count, dtype: float64"
      ]
     },
     "execution_count": 250,
     "metadata": {},
     "output_type": "execute_result"
    }
   ],
   "source": [
    "# specifically confirming on columns \"Sodium(mg)\", \"Calories\"\n",
    "\n",
    "missing_price = df1_new[[\"Sodium(mg)\", \"Calories\"]].isnull().sum(axis=1)\n",
    "missing_price.value_counts()/len(missing_price) * 100"
   ]
  },
  {
   "cell_type": "markdown",
   "id": "402d1d66",
   "metadata": {},
   "source": [
    "There are no missing values in any columns except Caffeine(mg), which is also not significant. So, drop all rows with any missing values. "
   ]
  },
  {
   "cell_type": "code",
   "execution_count": 203,
   "id": "76d31c7d",
   "metadata": {},
   "outputs": [
    {
     "name": "stdout",
     "output_type": "stream",
     "text": [
      "         Beverage_category  Calories TotalFat(g)  TransFat(g)  \\\n",
      "0                   Coffee         3         0.1          0.0   \n",
      "1                   Coffee         4         0.1          0.0   \n",
      "2                   Coffee         5         0.1          0.0   \n",
      "3                   Coffee         5         0.1          0.0   \n",
      "4  Classic Espresso Drinks        70         0.1          0.1   \n",
      "\n",
      "   SaturatedFat(g)  Sodium(mg)  TotalCarbohydrates(g)  Cholesterol(mg)  \\\n",
      "0              0.0           0                      5                0   \n",
      "1              0.0           0                     10                0   \n",
      "2              0.0           0                     10                0   \n",
      "3              0.0           0                     10                0   \n",
      "4              0.0           5                     75               10   \n",
      "\n",
      "   DietaryFibre(g)  Sugars(g)  Protein(g) VitaminA(%DV) VitaminC(%DV)  \\\n",
      "0                0          0         0.3            0%            0%   \n",
      "1                0          0         0.5            0%            0%   \n",
      "2                0          0         1.0            0%            0%   \n",
      "3                0          0         1.0            0%            0%   \n",
      "4                0          9         6.0           10%            0%   \n",
      "\n",
      "  Calcium(%DV) Iron(%DV) Caffeine(mg)  \n",
      "0           0%        0%          175  \n",
      "1           0%        0%          260  \n",
      "2           0%        0%          330  \n",
      "3           2%        0%          410  \n",
      "4          20%        0%           75  \n"
     ]
    }
   ],
   "source": [
    "df1 = df1.dropna()\n",
    "print(df1.head())"
   ]
  },
  {
   "cell_type": "markdown",
   "id": "7421f6ba",
   "metadata": {},
   "source": [
    "# Explore the data"
   ]
  },
  {
   "cell_type": "code",
   "execution_count": 201,
   "id": "92892b96",
   "metadata": {},
   "outputs": [
    {
     "data": {
      "text/html": [
       "<div>\n",
       "<style scoped>\n",
       "    .dataframe tbody tr th:only-of-type {\n",
       "        vertical-align: middle;\n",
       "    }\n",
       "\n",
       "    .dataframe tbody tr th {\n",
       "        vertical-align: top;\n",
       "    }\n",
       "\n",
       "    .dataframe thead th {\n",
       "        text-align: right;\n",
       "    }\n",
       "</style>\n",
       "<table border=\"1\" class=\"dataframe\">\n",
       "  <thead>\n",
       "    <tr style=\"text-align: right;\">\n",
       "      <th></th>\n",
       "      <th>Calories</th>\n",
       "      <th>TransFat(g)</th>\n",
       "      <th>SaturatedFat(g)</th>\n",
       "      <th>Sodium(mg)</th>\n",
       "      <th>TotalCarbohydrates(g)</th>\n",
       "      <th>Cholesterol(mg)</th>\n",
       "      <th>DietaryFibre(g)</th>\n",
       "      <th>Sugars(g)</th>\n",
       "      <th>Protein(g)</th>\n",
       "    </tr>\n",
       "  </thead>\n",
       "  <tbody>\n",
       "    <tr>\n",
       "      <th>count</th>\n",
       "      <td>241.000000</td>\n",
       "      <td>241.000000</td>\n",
       "      <td>241.000000</td>\n",
       "      <td>241.000000</td>\n",
       "      <td>241.000000</td>\n",
       "      <td>241.000000</td>\n",
       "      <td>241.000000</td>\n",
       "      <td>241.000000</td>\n",
       "      <td>241.000000</td>\n",
       "    </tr>\n",
       "    <tr>\n",
       "      <th>mean</th>\n",
       "      <td>194.302905</td>\n",
       "      <td>1.310373</td>\n",
       "      <td>0.037759</td>\n",
       "      <td>6.369295</td>\n",
       "      <td>129.315353</td>\n",
       "      <td>36.066390</td>\n",
       "      <td>0.809129</td>\n",
       "      <td>33.024896</td>\n",
       "      <td>6.999170</td>\n",
       "    </tr>\n",
       "    <tr>\n",
       "      <th>std</th>\n",
       "      <td>102.858173</td>\n",
       "      <td>1.642843</td>\n",
       "      <td>0.071484</td>\n",
       "      <td>8.647768</td>\n",
       "      <td>82.200315</td>\n",
       "      <td>20.805942</td>\n",
       "      <td>1.448016</td>\n",
       "      <td>19.747558</td>\n",
       "      <td>4.871165</td>\n",
       "    </tr>\n",
       "    <tr>\n",
       "      <th>min</th>\n",
       "      <td>0.000000</td>\n",
       "      <td>0.000000</td>\n",
       "      <td>0.000000</td>\n",
       "      <td>0.000000</td>\n",
       "      <td>0.000000</td>\n",
       "      <td>0.000000</td>\n",
       "      <td>0.000000</td>\n",
       "      <td>0.000000</td>\n",
       "      <td>0.000000</td>\n",
       "    </tr>\n",
       "    <tr>\n",
       "      <th>25%</th>\n",
       "      <td>120.000000</td>\n",
       "      <td>0.100000</td>\n",
       "      <td>0.000000</td>\n",
       "      <td>0.000000</td>\n",
       "      <td>70.000000</td>\n",
       "      <td>21.000000</td>\n",
       "      <td>0.000000</td>\n",
       "      <td>18.000000</td>\n",
       "      <td>3.000000</td>\n",
       "    </tr>\n",
       "    <tr>\n",
       "      <th>50%</th>\n",
       "      <td>190.000000</td>\n",
       "      <td>0.500000</td>\n",
       "      <td>0.000000</td>\n",
       "      <td>5.000000</td>\n",
       "      <td>125.000000</td>\n",
       "      <td>34.000000</td>\n",
       "      <td>0.000000</td>\n",
       "      <td>32.000000</td>\n",
       "      <td>6.000000</td>\n",
       "    </tr>\n",
       "    <tr>\n",
       "      <th>75%</th>\n",
       "      <td>260.000000</td>\n",
       "      <td>2.000000</td>\n",
       "      <td>0.100000</td>\n",
       "      <td>10.000000</td>\n",
       "      <td>170.000000</td>\n",
       "      <td>51.000000</td>\n",
       "      <td>1.000000</td>\n",
       "      <td>44.000000</td>\n",
       "      <td>10.000000</td>\n",
       "    </tr>\n",
       "    <tr>\n",
       "      <th>max</th>\n",
       "      <td>510.000000</td>\n",
       "      <td>9.000000</td>\n",
       "      <td>0.300000</td>\n",
       "      <td>40.000000</td>\n",
       "      <td>340.000000</td>\n",
       "      <td>90.000000</td>\n",
       "      <td>8.000000</td>\n",
       "      <td>84.000000</td>\n",
       "      <td>20.000000</td>\n",
       "    </tr>\n",
       "  </tbody>\n",
       "</table>\n",
       "</div>"
      ],
      "text/plain": [
       "         Calories  TransFat(g)  SaturatedFat(g)  Sodium(mg)  \\\n",
       "count  241.000000   241.000000       241.000000  241.000000   \n",
       "mean   194.302905     1.310373         0.037759    6.369295   \n",
       "std    102.858173     1.642843         0.071484    8.647768   \n",
       "min      0.000000     0.000000         0.000000    0.000000   \n",
       "25%    120.000000     0.100000         0.000000    0.000000   \n",
       "50%    190.000000     0.500000         0.000000    5.000000   \n",
       "75%    260.000000     2.000000         0.100000   10.000000   \n",
       "max    510.000000     9.000000         0.300000   40.000000   \n",
       "\n",
       "       TotalCarbohydrates(g)  Cholesterol(mg)  DietaryFibre(g)   Sugars(g)  \\\n",
       "count             241.000000       241.000000       241.000000  241.000000   \n",
       "mean              129.315353        36.066390         0.809129   33.024896   \n",
       "std                82.200315        20.805942         1.448016   19.747558   \n",
       "min                 0.000000         0.000000         0.000000    0.000000   \n",
       "25%                70.000000        21.000000         0.000000   18.000000   \n",
       "50%               125.000000        34.000000         0.000000   32.000000   \n",
       "75%               170.000000        51.000000         1.000000   44.000000   \n",
       "max               340.000000        90.000000         8.000000   84.000000   \n",
       "\n",
       "       Protein(g)  \n",
       "count  241.000000  \n",
       "mean     6.999170  \n",
       "std      4.871165  \n",
       "min      0.000000  \n",
       "25%      3.000000  \n",
       "50%      6.000000  \n",
       "75%     10.000000  \n",
       "max     20.000000  "
      ]
     },
     "execution_count": 201,
     "metadata": {},
     "output_type": "execute_result"
    }
   ],
   "source": [
    "# # look at only the numeric columns\n",
    "df1.describe()"
   ]
  },
  {
   "cell_type": "markdown",
   "id": "4ff19185",
   "metadata": {},
   "source": [
    "# Highest Rated By Order Of Each Of The Summary Statistics"
   ]
  },
  {
   "cell_type": "code",
   "execution_count": 183,
   "id": "fbc39f1c",
   "metadata": {},
   "outputs": [
    {
     "data": {
      "text/html": [
       "<div>\n",
       "<style scoped>\n",
       "    .dataframe tbody tr th:only-of-type {\n",
       "        vertical-align: middle;\n",
       "    }\n",
       "\n",
       "    .dataframe tbody tr th {\n",
       "        vertical-align: top;\n",
       "    }\n",
       "\n",
       "    .dataframe thead th {\n",
       "        text-align: right;\n",
       "    }\n",
       "</style>\n",
       "<table border=\"1\" class=\"dataframe\">\n",
       "  <thead>\n",
       "    <tr style=\"text-align: right;\">\n",
       "      <th></th>\n",
       "      <th>Calories</th>\n",
       "      <th>TotalFat(g)</th>\n",
       "      <th>TransFat(g)</th>\n",
       "      <th>SaturatedFat(g)</th>\n",
       "      <th>Sodium(mg)</th>\n",
       "      <th>TotalCarbohydrates(g)</th>\n",
       "      <th>Cholesterol(mg)</th>\n",
       "      <th>DietaryFibre(g)</th>\n",
       "      <th>Sugars(g)</th>\n",
       "      <th>Protein(g)</th>\n",
       "      <th>VitaminA(%DV)</th>\n",
       "      <th>VitaminC(%DV)</th>\n",
       "      <th>Calcium(%DV)</th>\n",
       "      <th>Iron(%DV)</th>\n",
       "      <th>Caffeine(mg)</th>\n",
       "    </tr>\n",
       "    <tr>\n",
       "      <th>Beverage_category</th>\n",
       "      <th></th>\n",
       "      <th></th>\n",
       "      <th></th>\n",
       "      <th></th>\n",
       "      <th></th>\n",
       "      <th></th>\n",
       "      <th></th>\n",
       "      <th></th>\n",
       "      <th></th>\n",
       "      <th></th>\n",
       "      <th></th>\n",
       "      <th></th>\n",
       "      <th></th>\n",
       "      <th></th>\n",
       "      <th></th>\n",
       "    </tr>\n",
       "  </thead>\n",
       "  <tbody>\n",
       "    <tr>\n",
       "      <th>Coffee</th>\n",
       "      <td>3</td>\n",
       "      <td>0.1</td>\n",
       "      <td>0.0</td>\n",
       "      <td>0.0</td>\n",
       "      <td>0</td>\n",
       "      <td>5</td>\n",
       "      <td>0</td>\n",
       "      <td>0</td>\n",
       "      <td>0</td>\n",
       "      <td>0.3</td>\n",
       "      <td>0%</td>\n",
       "      <td>0%</td>\n",
       "      <td>0%</td>\n",
       "      <td>0%</td>\n",
       "      <td>175</td>\n",
       "    </tr>\n",
       "    <tr>\n",
       "      <th>Coffee</th>\n",
       "      <td>4</td>\n",
       "      <td>0.1</td>\n",
       "      <td>0.0</td>\n",
       "      <td>0.0</td>\n",
       "      <td>0</td>\n",
       "      <td>10</td>\n",
       "      <td>0</td>\n",
       "      <td>0</td>\n",
       "      <td>0</td>\n",
       "      <td>0.5</td>\n",
       "      <td>0%</td>\n",
       "      <td>0%</td>\n",
       "      <td>0%</td>\n",
       "      <td>0%</td>\n",
       "      <td>260</td>\n",
       "    </tr>\n",
       "    <tr>\n",
       "      <th>Coffee</th>\n",
       "      <td>5</td>\n",
       "      <td>0.1</td>\n",
       "      <td>0.0</td>\n",
       "      <td>0.0</td>\n",
       "      <td>0</td>\n",
       "      <td>10</td>\n",
       "      <td>0</td>\n",
       "      <td>0</td>\n",
       "      <td>0</td>\n",
       "      <td>1.0</td>\n",
       "      <td>0%</td>\n",
       "      <td>0%</td>\n",
       "      <td>0%</td>\n",
       "      <td>0%</td>\n",
       "      <td>330</td>\n",
       "    </tr>\n",
       "    <tr>\n",
       "      <th>Coffee</th>\n",
       "      <td>5</td>\n",
       "      <td>0.1</td>\n",
       "      <td>0.0</td>\n",
       "      <td>0.0</td>\n",
       "      <td>0</td>\n",
       "      <td>10</td>\n",
       "      <td>0</td>\n",
       "      <td>0</td>\n",
       "      <td>0</td>\n",
       "      <td>1.0</td>\n",
       "      <td>0%</td>\n",
       "      <td>0%</td>\n",
       "      <td>2%</td>\n",
       "      <td>0%</td>\n",
       "      <td>410</td>\n",
       "    </tr>\n",
       "    <tr>\n",
       "      <th>Classic Espresso Drinks</th>\n",
       "      <td>70</td>\n",
       "      <td>0.1</td>\n",
       "      <td>0.1</td>\n",
       "      <td>0.0</td>\n",
       "      <td>5</td>\n",
       "      <td>75</td>\n",
       "      <td>10</td>\n",
       "      <td>0</td>\n",
       "      <td>9</td>\n",
       "      <td>6.0</td>\n",
       "      <td>10%</td>\n",
       "      <td>0%</td>\n",
       "      <td>20%</td>\n",
       "      <td>0%</td>\n",
       "      <td>75</td>\n",
       "    </tr>\n",
       "  </tbody>\n",
       "</table>\n",
       "</div>"
      ],
      "text/plain": [
       "                         Calories TotalFat(g)  TransFat(g)  SaturatedFat(g)  \\\n",
       "Beverage_category                                                             \n",
       "Coffee                          3         0.1          0.0              0.0   \n",
       "Coffee                          4         0.1          0.0              0.0   \n",
       "Coffee                          5         0.1          0.0              0.0   \n",
       "Coffee                          5         0.1          0.0              0.0   \n",
       "Classic Espresso Drinks        70         0.1          0.1              0.0   \n",
       "\n",
       "                         Sodium(mg)  TotalCarbohydrates(g)  Cholesterol(mg)  \\\n",
       "Beverage_category                                                             \n",
       "Coffee                            0                      5                0   \n",
       "Coffee                            0                     10                0   \n",
       "Coffee                            0                     10                0   \n",
       "Coffee                            0                     10                0   \n",
       "Classic Espresso Drinks           5                     75               10   \n",
       "\n",
       "                         DietaryFibre(g)  Sugars(g)  Protein(g) VitaminA(%DV)  \\\n",
       "Beverage_category                                                               \n",
       "Coffee                                 0          0         0.3            0%   \n",
       "Coffee                                 0          0         0.5            0%   \n",
       "Coffee                                 0          0         1.0            0%   \n",
       "Coffee                                 0          0         1.0            0%   \n",
       "Classic Espresso Drinks                0          9         6.0           10%   \n",
       "\n",
       "                        VitaminC(%DV) Calcium(%DV) Iron(%DV) Caffeine(mg)  \n",
       "Beverage_category                                                          \n",
       "Coffee                             0%           0%        0%          175  \n",
       "Coffee                             0%           0%        0%          260  \n",
       "Coffee                             0%           0%        0%          330  \n",
       "Coffee                             0%           2%        0%          410  \n",
       "Classic Espresso Drinks            0%          20%        0%           75  "
      ]
     },
     "execution_count": 183,
     "metadata": {},
     "output_type": "execute_result"
    }
   ],
   "source": [
    "df1_new = df1.set_index('Beverage_category')\n",
    "df1_new.head()"
   ]
  },
  {
   "cell_type": "code",
   "execution_count": 184,
   "id": "9224b83b",
   "metadata": {},
   "outputs": [
    {
     "data": {
      "text/plain": [
       "Index(['Calories', 'TotalFat(g)', 'TransFat(g)', 'SaturatedFat(g)',\n",
       "       'Sodium(mg)', 'TotalCarbohydrates(g)', 'Cholesterol(mg)',\n",
       "       'DietaryFibre(g)', 'Sugars(g)', 'Protein(g)', 'VitaminA(%DV)',\n",
       "       'VitaminC(%DV)', 'Calcium(%DV)', 'Iron(%DV)', 'Caffeine(mg)'],\n",
       "      dtype='object')"
      ]
     },
     "execution_count": 184,
     "metadata": {},
     "output_type": "execute_result"
    }
   ],
   "source": [
    "df1_new.columns"
   ]
  },
  {
   "cell_type": "markdown",
   "id": "f66d5bca",
   "metadata": {},
   "source": [
    "# Beverage Category with highest in Calories"
   ]
  },
  {
   "cell_type": "code",
   "execution_count": 185,
   "id": "db8b057f",
   "metadata": {},
   "outputs": [
    {
     "data": {
      "text/plain": [
       "Beverage_category\n",
       "Signature Espresso Drinks      510\n",
       "Frappuccino® Blended Coffee    460\n",
       "Signature Espresso Drinks      460\n",
       "Tazo® Tea Drinks               450\n",
       "Signature Espresso Drinks      450\n",
       "Name: Calories, dtype: int64"
      ]
     },
     "execution_count": 185,
     "metadata": {},
     "output_type": "execute_result"
    }
   ],
   "source": [
    "df1_new[\"Calories\"].sort_values(ascending=False).head()"
   ]
  },
  {
   "cell_type": "markdown",
   "id": "a28a2d85",
   "metadata": {},
   "source": [
    "Signature Espresso Drinks have the highest levels of Calories"
   ]
  },
  {
   "cell_type": "markdown",
   "id": "1a134b72",
   "metadata": {},
   "source": [
    "How do the distributions of this feature look?"
   ]
  },
  {
   "cell_type": "code",
   "execution_count": 186,
   "id": "2e601c0e",
   "metadata": {},
   "outputs": [
    {
     "data": {
      "text/plain": [
       "Text(0, 0.5, 'Count')"
      ]
     },
     "execution_count": 186,
     "metadata": {},
     "output_type": "execute_result"
    },
    {
     "data": {
      "image/png": "[encoded data removed]",
      "text/plain": [
       "<Figure size 640x480 with 1 Axes>"
      ]
     },
     "metadata": {},
     "output_type": "display_data"
    }
   ],
   "source": [
    "# get the calories column\n",
    "calories = df1_new[\"Calories\"]\n",
    "\n",
    "# Plot a histogram of sodium content\n",
    "plt.hist(calories, bins=9, edgecolor = \"black\")\n",
    "plt.title(\"Calories in Starbucks Menu Items\")\n",
    "plt.xlabel(\"Calories in milligrams\")\n",
    "plt.ylabel(\"Count\")"
   ]
  },
  {
   "cell_type": "markdown",
   "id": "298b2973",
   "metadata": {},
   "source": [
    "# Beverage Category with highest in Sodium levels"
   ]
  },
  {
   "cell_type": "code",
   "execution_count": 187,
   "id": "10fda237",
   "metadata": {},
   "outputs": [
    {
     "data": {
      "text/plain": [
       "Beverage_category\n",
       "Tazo® Tea Drinks             40\n",
       "Signature Espresso Drinks    35\n",
       "Signature Espresso Drinks    35\n",
       "Classic Espresso Drinks      35\n",
       "Signature Espresso Drinks    35\n",
       "Name: Sodium(mg), dtype: int64"
      ]
     },
     "execution_count": 187,
     "metadata": {},
     "output_type": "execute_result"
    }
   ],
   "source": [
    "df1_new[\"Sodium(mg)\"].sort_values(ascending=False).head()"
   ]
  },
  {
   "cell_type": "markdown",
   "id": "c44773f5",
   "metadata": {},
   "source": [
    "Tazo® Tea Drinks dominates and contains the highest level of Sodium content"
   ]
  },
  {
   "cell_type": "markdown",
   "id": "53d694a2",
   "metadata": {},
   "source": [
    "How do the distributions of this feature look?"
   ]
  },
  {
   "cell_type": "code",
   "execution_count": 259,
   "id": "a4f113fb",
   "metadata": {},
   "outputs": [
    {
     "data": {
      "text/plain": [
       "Text(0, 0.5, 'Count')"
      ]
     },
     "execution_count": 259,
     "metadata": {},
     "output_type": "execute_result"
    },
    {
     "data": {
      "image/png": "[encoded data removed]",
      "text/plain": [
       "<Figure size 640x480 with 1 Axes>"
      ]
     },
     "metadata": {},
     "output_type": "display_data"
    }
   ],
   "source": [
    "# get the sodium column\n",
    "sodium = df1_new[\"Sodium(mg)\"]\n",
    "\n",
    "# Plot a histogram of sodium content\n",
    "plt.hist(sodium, bins=9, edgecolor = \"black\")\n",
    "plt.title(\"Sodium in Starbucks Menu Items\")\n",
    "plt.xlabel(\"Sodium in milligrams\")\n",
    "plt.ylabel(\"Count\")"
   ]
  },
  {
   "cell_type": "code",
   "execution_count": 298,
   "id": "ffe4ea14",
   "metadata": {},
   "outputs": [
    {
     "data": {
      "text/html": [
       "<div>\n",
       "<style scoped>\n",
       "    .dataframe tbody tr th:only-of-type {\n",
       "        vertical-align: middle;\n",
       "    }\n",
       "\n",
       "    .dataframe tbody tr th {\n",
       "        vertical-align: top;\n",
       "    }\n",
       "\n",
       "    .dataframe thead th {\n",
       "        text-align: right;\n",
       "    }\n",
       "</style>\n",
       "<table border=\"1\" class=\"dataframe\">\n",
       "  <thead>\n",
       "    <tr style=\"text-align: right;\">\n",
       "      <th></th>\n",
       "      <th>Calories</th>\n",
       "      <th>TotalFat(g)</th>\n",
       "      <th>TransFat(g)</th>\n",
       "      <th>SaturatedFat(g)</th>\n",
       "      <th>Sodium(mg)</th>\n",
       "      <th>TotalCarbohydrates(g)</th>\n",
       "      <th>Cholesterol(mg)</th>\n",
       "      <th>DietaryFibre(g)</th>\n",
       "      <th>Sugars(g)</th>\n",
       "      <th>Protein(g)</th>\n",
       "      <th>VitaminA(%DV)</th>\n",
       "      <th>VitaminC(%DV)</th>\n",
       "      <th>Calcium(%DV)</th>\n",
       "      <th>Iron(%DV)</th>\n",
       "      <th>Caffeine(mg)</th>\n",
       "    </tr>\n",
       "    <tr>\n",
       "      <th>Beverage_category</th>\n",
       "      <th></th>\n",
       "      <th></th>\n",
       "      <th></th>\n",
       "      <th></th>\n",
       "      <th></th>\n",
       "      <th></th>\n",
       "      <th></th>\n",
       "      <th></th>\n",
       "      <th></th>\n",
       "      <th></th>\n",
       "      <th></th>\n",
       "      <th></th>\n",
       "      <th></th>\n",
       "      <th></th>\n",
       "      <th></th>\n",
       "    </tr>\n",
       "  </thead>\n",
       "  <tbody>\n",
       "    <tr>\n",
       "      <th>Coffee</th>\n",
       "      <td>3</td>\n",
       "      <td>0.1</td>\n",
       "      <td>0.0</td>\n",
       "      <td>0.0</td>\n",
       "      <td>0</td>\n",
       "      <td>5</td>\n",
       "      <td>0</td>\n",
       "      <td>0</td>\n",
       "      <td>0</td>\n",
       "      <td>0.3</td>\n",
       "      <td>0%</td>\n",
       "      <td>0%</td>\n",
       "      <td>0%</td>\n",
       "      <td>0%</td>\n",
       "      <td>175</td>\n",
       "    </tr>\n",
       "    <tr>\n",
       "      <th>Coffee</th>\n",
       "      <td>4</td>\n",
       "      <td>0.1</td>\n",
       "      <td>0.0</td>\n",
       "      <td>0.0</td>\n",
       "      <td>0</td>\n",
       "      <td>10</td>\n",
       "      <td>0</td>\n",
       "      <td>0</td>\n",
       "      <td>0</td>\n",
       "      <td>0.5</td>\n",
       "      <td>0%</td>\n",
       "      <td>0%</td>\n",
       "      <td>0%</td>\n",
       "      <td>0%</td>\n",
       "      <td>260</td>\n",
       "    </tr>\n",
       "    <tr>\n",
       "      <th>Coffee</th>\n",
       "      <td>5</td>\n",
       "      <td>0.1</td>\n",
       "      <td>0.0</td>\n",
       "      <td>0.0</td>\n",
       "      <td>0</td>\n",
       "      <td>10</td>\n",
       "      <td>0</td>\n",
       "      <td>0</td>\n",
       "      <td>0</td>\n",
       "      <td>1.0</td>\n",
       "      <td>0%</td>\n",
       "      <td>0%</td>\n",
       "      <td>0%</td>\n",
       "      <td>0%</td>\n",
       "      <td>330</td>\n",
       "    </tr>\n",
       "    <tr>\n",
       "      <th>Coffee</th>\n",
       "      <td>5</td>\n",
       "      <td>0.1</td>\n",
       "      <td>0.0</td>\n",
       "      <td>0.0</td>\n",
       "      <td>0</td>\n",
       "      <td>10</td>\n",
       "      <td>0</td>\n",
       "      <td>0</td>\n",
       "      <td>0</td>\n",
       "      <td>1.0</td>\n",
       "      <td>0%</td>\n",
       "      <td>0%</td>\n",
       "      <td>2%</td>\n",
       "      <td>0%</td>\n",
       "      <td>410</td>\n",
       "    </tr>\n",
       "    <tr>\n",
       "      <th>Classic Espresso Drinks</th>\n",
       "      <td>70</td>\n",
       "      <td>2.5</td>\n",
       "      <td>0.4</td>\n",
       "      <td>0.0</td>\n",
       "      <td>0</td>\n",
       "      <td>65</td>\n",
       "      <td>6</td>\n",
       "      <td>1</td>\n",
       "      <td>4</td>\n",
       "      <td>5.0</td>\n",
       "      <td>6%</td>\n",
       "      <td>0%</td>\n",
       "      <td>20%</td>\n",
       "      <td>8%</td>\n",
       "      <td>75</td>\n",
       "    </tr>\n",
       "    <tr>\n",
       "      <th>...</th>\n",
       "      <td>...</td>\n",
       "      <td>...</td>\n",
       "      <td>...</td>\n",
       "      <td>...</td>\n",
       "      <td>...</td>\n",
       "      <td>...</td>\n",
       "      <td>...</td>\n",
       "      <td>...</td>\n",
       "      <td>...</td>\n",
       "      <td>...</td>\n",
       "      <td>...</td>\n",
       "      <td>...</td>\n",
       "      <td>...</td>\n",
       "      <td>...</td>\n",
       "      <td>...</td>\n",
       "    </tr>\n",
       "    <tr>\n",
       "      <th>Frappuccino® Blended Crème</th>\n",
       "      <td>230</td>\n",
       "      <td>0.2</td>\n",
       "      <td>0.1</td>\n",
       "      <td>0.0</td>\n",
       "      <td>0</td>\n",
       "      <td>190</td>\n",
       "      <td>53</td>\n",
       "      <td>0</td>\n",
       "      <td>52</td>\n",
       "      <td>4.0</td>\n",
       "      <td>8%</td>\n",
       "      <td>6%</td>\n",
       "      <td>15%</td>\n",
       "      <td>4%</td>\n",
       "      <td>0</td>\n",
       "    </tr>\n",
       "    <tr>\n",
       "      <th>Frappuccino® Blended Crème</th>\n",
       "      <td>240</td>\n",
       "      <td>2</td>\n",
       "      <td>0.2</td>\n",
       "      <td>0.0</td>\n",
       "      <td>0</td>\n",
       "      <td>180</td>\n",
       "      <td>51</td>\n",
       "      <td>1</td>\n",
       "      <td>49</td>\n",
       "      <td>3.0</td>\n",
       "      <td>4%</td>\n",
       "      <td>6%</td>\n",
       "      <td>15%</td>\n",
       "      <td>8%</td>\n",
       "      <td>0</td>\n",
       "    </tr>\n",
       "    <tr>\n",
       "      <th>Frappuccino® Blended Crème</th>\n",
       "      <td>320</td>\n",
       "      <td>3 2</td>\n",
       "      <td>0.4</td>\n",
       "      <td>0.0</td>\n",
       "      <td>0</td>\n",
       "      <td>250</td>\n",
       "      <td>67</td>\n",
       "      <td>1</td>\n",
       "      <td>64</td>\n",
       "      <td>5.0</td>\n",
       "      <td>6%</td>\n",
       "      <td>8%</td>\n",
       "      <td>20%</td>\n",
       "      <td>10%</td>\n",
       "      <td>0</td>\n",
       "    </tr>\n",
       "    <tr>\n",
       "      <th>Frappuccino® Blended Crème</th>\n",
       "      <td>170</td>\n",
       "      <td>0.1</td>\n",
       "      <td>0.1</td>\n",
       "      <td>0.0</td>\n",
       "      <td>0</td>\n",
       "      <td>160</td>\n",
       "      <td>39</td>\n",
       "      <td>0</td>\n",
       "      <td>38</td>\n",
       "      <td>4.0</td>\n",
       "      <td>6%</td>\n",
       "      <td>0%</td>\n",
       "      <td>10%</td>\n",
       "      <td>0%</td>\n",
       "      <td>0</td>\n",
       "    </tr>\n",
       "    <tr>\n",
       "      <th>Frappuccino® Blended Crème</th>\n",
       "      <td>180</td>\n",
       "      <td>1.5</td>\n",
       "      <td>0.2</td>\n",
       "      <td>0.0</td>\n",
       "      <td>0</td>\n",
       "      <td>160</td>\n",
       "      <td>37</td>\n",
       "      <td>1</td>\n",
       "      <td>35</td>\n",
       "      <td>3.0</td>\n",
       "      <td>4%</td>\n",
       "      <td>0%</td>\n",
       "      <td>10%</td>\n",
       "      <td>6%</td>\n",
       "      <td>0</td>\n",
       "    </tr>\n",
       "  </tbody>\n",
       "</table>\n",
       "<p>112 rows × 15 columns</p>\n",
       "</div>"
      ],
      "text/plain": [
       "                            Calories TotalFat(g)  TransFat(g)  \\\n",
       "Beverage_category                                               \n",
       "Coffee                             3         0.1          0.0   \n",
       "Coffee                             4         0.1          0.0   \n",
       "Coffee                             5         0.1          0.0   \n",
       "Coffee                             5         0.1          0.0   \n",
       "Classic Espresso Drinks           70         2.5          0.4   \n",
       "...                              ...         ...          ...   \n",
       "Frappuccino® Blended Crème       230         0.2          0.1   \n",
       "Frappuccino® Blended Crème       240           2          0.2   \n",
       "Frappuccino® Blended Crème       320         3 2          0.4   \n",
       "Frappuccino® Blended Crème       170         0.1          0.1   \n",
       "Frappuccino® Blended Crème       180         1.5          0.2   \n",
       "\n",
       "                            SaturatedFat(g)  Sodium(mg)  \\\n",
       "Beverage_category                                         \n",
       "Coffee                                  0.0           0   \n",
       "Coffee                                  0.0           0   \n",
       "Coffee                                  0.0           0   \n",
       "Coffee                                  0.0           0   \n",
       "Classic Espresso Drinks                 0.0           0   \n",
       "...                                     ...         ...   \n",
       "Frappuccino® Blended Crème              0.0           0   \n",
       "Frappuccino® Blended Crème              0.0           0   \n",
       "Frappuccino® Blended Crème              0.0           0   \n",
       "Frappuccino® Blended Crème              0.0           0   \n",
       "Frappuccino® Blended Crème              0.0           0   \n",
       "\n",
       "                            TotalCarbohydrates(g)  Cholesterol(mg)  \\\n",
       "Beverage_category                                                    \n",
       "Coffee                                          5                0   \n",
       "Coffee                                         10                0   \n",
       "Coffee                                         10                0   \n",
       "Coffee                                         10                0   \n",
       "Classic Espresso Drinks                        65                6   \n",
       "...                                           ...              ...   \n",
       "Frappuccino® Blended Crème                    190               53   \n",
       "Frappuccino® Blended Crème                    180               51   \n",
       "Frappuccino® Blended Crème                    250               67   \n",
       "Frappuccino® Blended Crème                    160               39   \n",
       "Frappuccino® Blended Crème                    160               37   \n",
       "\n",
       "                            DietaryFibre(g)  Sugars(g)  Protein(g)  \\\n",
       "Beverage_category                                                    \n",
       "Coffee                                    0          0         0.3   \n",
       "Coffee                                    0          0         0.5   \n",
       "Coffee                                    0          0         1.0   \n",
       "Coffee                                    0          0         1.0   \n",
       "Classic Espresso Drinks                   1          4         5.0   \n",
       "...                                     ...        ...         ...   \n",
       "Frappuccino® Blended Crème                0         52         4.0   \n",
       "Frappuccino® Blended Crème                1         49         3.0   \n",
       "Frappuccino® Blended Crème                1         64         5.0   \n",
       "Frappuccino® Blended Crème                0         38         4.0   \n",
       "Frappuccino® Blended Crème                1         35         3.0   \n",
       "\n",
       "                           VitaminA(%DV) VitaminC(%DV) Calcium(%DV) Iron(%DV)  \\\n",
       "Beverage_category                                                               \n",
       "Coffee                                0%            0%           0%        0%   \n",
       "Coffee                                0%            0%           0%        0%   \n",
       "Coffee                                0%            0%           0%        0%   \n",
       "Coffee                                0%            0%           2%        0%   \n",
       "Classic Espresso Drinks               6%            0%          20%        8%   \n",
       "...                                  ...           ...          ...       ...   \n",
       "Frappuccino® Blended Crème            8%            6%          15%        4%   \n",
       "Frappuccino® Blended Crème            4%            6%          15%        8%   \n",
       "Frappuccino® Blended Crème            6%            8%          20%       10%   \n",
       "Frappuccino® Blended Crème            6%            0%          10%        0%   \n",
       "Frappuccino® Blended Crème            4%            0%          10%        6%   \n",
       "\n",
       "                           Caffeine(mg)  \n",
       "Beverage_category                        \n",
       "Coffee                              175  \n",
       "Coffee                              260  \n",
       "Coffee                              330  \n",
       "Coffee                              410  \n",
       "Classic Espresso Drinks              75  \n",
       "...                                 ...  \n",
       "Frappuccino® Blended Crème            0  \n",
       "Frappuccino® Blended Crème            0  \n",
       "Frappuccino® Blended Crème            0  \n",
       "Frappuccino® Blended Crème            0  \n",
       "Frappuccino® Blended Crème            0  \n",
       "\n",
       "[112 rows x 15 columns]"
      ]
     },
     "execution_count": 298,
     "metadata": {},
     "output_type": "execute_result"
    }
   ],
   "source": [
    "# Further exploring the column Sodium (mg)\n",
    "#Filter the 'Sodium' column to print the values < than 5\n",
    "df1_new.loc[df1_new[\"Sodium(mg)\"] <5]"
   ]
  },
  {
   "cell_type": "markdown",
   "id": "9fdd150d",
   "metadata": {},
   "source": [
    "# Beverage Category with highest in Cholesterol"
   ]
  },
  {
   "cell_type": "code",
   "execution_count": 223,
   "id": "a2d9c21b",
   "metadata": {},
   "outputs": [
    {
     "data": {
      "text/plain": [
       "Beverage_category\n",
       "Frappuccino® Blended Coffee    90\n",
       "Frappuccino® Blended Coffee    90\n",
       "Signature Espresso Drinks      89\n",
       "Frappuccino® Blended Coffee    88\n",
       "Frappuccino® Blended Coffee    80\n",
       "Name: Cholesterol(mg), dtype: int64"
      ]
     },
     "execution_count": 223,
     "metadata": {},
     "output_type": "execute_result"
    }
   ],
   "source": [
    "df1_new[\"Cholesterol(mg)\"].sort_values(ascending=False).head()"
   ]
  },
  {
   "cell_type": "code",
   "execution_count": 257,
   "id": "fc2d7073",
   "metadata": {},
   "outputs": [
    {
     "data": {
      "text/plain": [
       "Text(0, 0.5, 'Count')"
      ]
     },
     "execution_count": 257,
     "metadata": {},
     "output_type": "execute_result"
    },
    {
     "data": {
      "image/png": "[encoded data removed]",
      "text/plain": [
       "<Figure size 640x480 with 1 Axes>"
      ]
     },
     "metadata": {},
     "output_type": "display_data"
    }
   ],
   "source": [
    "# get the Cholesterol column\n",
    "cholestrol = df1_new[\"Cholesterol(mg)\"]\n",
    "\n",
    "# Plot a histogram of sodium content\n",
    "plt.hist(cholestrol, bins=9, edgecolor = \"black\")\n",
    "plt.title(\"Cholestrol in Starbucks Menu Items\")\n",
    "plt.xlabel(\"Cholestrol in milligrams\")\n",
    "plt.ylabel(\"Count\")"
   ]
  },
  {
   "cell_type": "markdown",
   "id": "7ed777c4",
   "metadata": {},
   "source": [
    "# Beverage Category with highest in Sugar "
   ]
  },
  {
   "cell_type": "code",
   "execution_count": 190,
   "id": "e1bb686b",
   "metadata": {},
   "outputs": [
    {
     "data": {
      "text/plain": [
       "Beverage_category\n",
       "Frappuccino® Blended Coffee    84\n",
       "Frappuccino® Blended Coffee    84\n",
       "Signature Espresso Drinks      83\n",
       "Frappuccino® Blended Coffee    80\n",
       "Frappuccino® Blended Coffee    77\n",
       "Name: Sugars(g), dtype: int64"
      ]
     },
     "execution_count": 190,
     "metadata": {},
     "output_type": "execute_result"
    }
   ],
   "source": [
    "df1_new[\"Sugars(g)\"].sort_values(ascending=False).head()"
   ]
  },
  {
   "cell_type": "markdown",
   "id": "817ac668",
   "metadata": {},
   "source": [
    "Frappuccino® Blended Coffee have highest level of sugar."
   ]
  },
  {
   "cell_type": "markdown",
   "id": "6f0cdf82",
   "metadata": {},
   "source": [
    "How do the distributions of these two new features look?"
   ]
  },
  {
   "cell_type": "code",
   "execution_count": 191,
   "id": "f1e1ca2a",
   "metadata": {},
   "outputs": [
    {
     "data": {
      "text/plain": [
       "Text(0, 0.5, 'Count')"
      ]
     },
     "execution_count": 191,
     "metadata": {},
     "output_type": "execute_result"
    },
    {
     "data": {
      "image/png": "[encoded data removed]",
      "text/plain": [
       "<Figure size 640x480 with 1 Axes>"
      ]
     },
     "metadata": {},
     "output_type": "display_data"
    }
   ],
   "source": [
    "# get the sugars column\n",
    "sugars = df1_new[\"Sugars(g)\"]\n",
    "\n",
    "# Plot a histogram of sodium content\n",
    "plt.hist(sugars, bins=9, edgecolor = \"black\")\n",
    "plt.title(\"Sugar in Starbucks Menu Items\")\n",
    "plt.xlabel(\"Sugar in milligrams\")\n",
    "plt.ylabel(\"Count\")"
   ]
  },
  {
   "cell_type": "markdown",
   "id": "d34a53c6",
   "metadata": {},
   "source": [
    "They have not any kind of long tails or outliers on them."
   ]
  },
  {
   "cell_type": "markdown",
   "id": "a47ab41b",
   "metadata": {},
   "source": [
    "# Distribution Of Category By Category And Sodium(mg)"
   ]
  },
  {
   "cell_type": "markdown",
   "id": "9a34ec13",
   "metadata": {},
   "source": [
    "Our primary focus is our understanding the distribution amond various categories in terms of various attributes. Also, understanding what your primary target response feature should be (\"Sodium(mg)\", \"Calories\")"
   ]
  },
  {
   "cell_type": "code",
   "execution_count": 266,
   "id": "81e7e52d",
   "metadata": {},
   "outputs": [
    {
     "data": {
      "text/html": [
       "<div>\n",
       "<style scoped>\n",
       "    .dataframe tbody tr th:only-of-type {\n",
       "        vertical-align: middle;\n",
       "    }\n",
       "\n",
       "    .dataframe tbody tr th {\n",
       "        vertical-align: top;\n",
       "    }\n",
       "\n",
       "    .dataframe thead th {\n",
       "        text-align: right;\n",
       "    }\n",
       "</style>\n",
       "<table border=\"1\" class=\"dataframe\">\n",
       "  <thead>\n",
       "    <tr style=\"text-align: right;\">\n",
       "      <th></th>\n",
       "      <th>Sodium(mg)</th>\n",
       "      <th>Calories</th>\n",
       "      <th>Cholesterol(mg)</th>\n",
       "      <th>Sugars(g)</th>\n",
       "    </tr>\n",
       "    <tr>\n",
       "      <th>Beverage_category</th>\n",
       "      <th></th>\n",
       "      <th></th>\n",
       "      <th></th>\n",
       "      <th></th>\n",
       "    </tr>\n",
       "  </thead>\n",
       "  <tbody>\n",
       "    <tr>\n",
       "      <th>Classic Espresso Drinks</th>\n",
       "      <td>8.103448</td>\n",
       "      <td>140.172414</td>\n",
       "      <td>20.327586</td>\n",
       "      <td>16.965517</td>\n",
       "    </tr>\n",
       "    <tr>\n",
       "      <th>Coffee</th>\n",
       "      <td>0.000000</td>\n",
       "      <td>4.250000</td>\n",
       "      <td>0.000000</td>\n",
       "      <td>0.000000</td>\n",
       "    </tr>\n",
       "    <tr>\n",
       "      <th>Frappuccino® Blended Coffee</th>\n",
       "      <td>4.444444</td>\n",
       "      <td>276.944444</td>\n",
       "      <td>59.638889</td>\n",
       "      <td>57.083333</td>\n",
       "    </tr>\n",
       "    <tr>\n",
       "      <th>Frappuccino® Blended Crème</th>\n",
       "      <td>4.230769</td>\n",
       "      <td>233.076923</td>\n",
       "      <td>49.923077</td>\n",
       "      <td>48.461538</td>\n",
       "    </tr>\n",
       "    <tr>\n",
       "      <th>Frappuccino® Light Blended Coffee</th>\n",
       "      <td>1.666667</td>\n",
       "      <td>162.500000</td>\n",
       "      <td>34.500000</td>\n",
       "      <td>32.416667</td>\n",
       "    </tr>\n",
       "  </tbody>\n",
       "</table>\n",
       "</div>"
      ],
      "text/plain": [
       "                                   Sodium(mg)    Calories  Cholesterol(mg)  \\\n",
       "Beverage_category                                                            \n",
       "Classic Espresso Drinks              8.103448  140.172414        20.327586   \n",
       "Coffee                               0.000000    4.250000         0.000000   \n",
       "Frappuccino® Blended Coffee          4.444444  276.944444        59.638889   \n",
       "Frappuccino® Blended Crème           4.230769  233.076923        49.923077   \n",
       "Frappuccino® Light Blended Coffee    1.666667  162.500000        34.500000   \n",
       "\n",
       "                                   Sugars(g)  \n",
       "Beverage_category                             \n",
       "Classic Espresso Drinks            16.965517  \n",
       "Coffee                              0.000000  \n",
       "Frappuccino® Blended Coffee        57.083333  \n",
       "Frappuccino® Blended Crème         48.461538  \n",
       "Frappuccino® Light Blended Coffee  32.416667  "
      ]
     },
     "execution_count": 266,
     "metadata": {},
     "output_type": "execute_result"
    }
   ],
   "source": [
    "# Calculate \"Sodium(mg)\", \"Calories by Beverage_category and sort by the average of the two\n",
    "# Hint: use the pattern dataframe.groupby(<grouping variable>)[<list of columns>].mean()\n",
    "cat_means = df1_new.groupby(\"Beverage_category\")[[\"Sodium(mg)\", \"Calories\", \"Cholesterol(mg)\", \"Sugars(g)\"]].mean()\n",
    "cat_means.head()"
   ]
  },
  {
   "cell_type": "code",
   "execution_count": 269,
   "id": "8d6fd0ad",
   "metadata": {},
   "outputs": [
    {
     "data": {
      "image/png": "[encoded data removed]",
      "text/plain": [
       "<Figure size 1000x1000 with 1 Axes>"
      ]
     },
     "metadata": {},
     "output_type": "display_data"
    }
   ],
   "source": [
    "# The next bit simply reorders the index by increasing average of \"Sodium(mg)\", \"Calories\", \"Cholesterol\", \"Sugar\"\n",
    "# Compare the index order you get from cat_means.index with cat_means.mean(axis=1).sort_values(ascending=False).index\n",
    "# See how this expression simply sits within the reindex()\n",
    "(cat_means.reindex(index=cat_means.mean(axis=1)\n",
    "    .sort_values(ascending=False)\n",
    "    .index)\n",
    "    .plot(kind='barh', figsize=(10, 10), title='Average sodium(mg), calories by Beverage_category, Cholesterol, Sugar'))\n",
    "plt.xlabel('Count');"
   ]
  },
  {
   "cell_type": "markdown",
   "id": "cc3b7f29",
   "metadata": {},
   "source": [
    "Some key observations from above plot:\n",
    "\n",
    "Coffee is the least caloried Starbucks drink with no sodium content.\n",
    "\n",
    "Smoothies and Frappucino Blended Coffee is the most caloried Starbucks drink with highest amount of sugars and Cholesterol.\n",
    "\n",
    "Starbucks Signature Espresso Drinks contains the highest amount of Calories among other categories. "
   ]
  },
  {
   "cell_type": "markdown",
   "id": "bf252145",
   "metadata": {},
   "source": [
    "# Visualizing High Dimensional Data"
   ]
  },
  {
   "cell_type": "code",
   "execution_count": 244,
   "id": "dc162fb4",
   "metadata": {},
   "outputs": [
    {
     "data": {
      "image/png": "[encoded data removed]",
      "text/plain": [
       "<Figure size 1200x800 with 1 Axes>"
      ]
     },
     "metadata": {},
     "output_type": "display_data"
    }
   ],
   "source": [
    "# Create a seaborn boxplot of the df1_new dataframe we created above,to again confirm for the outliers\n",
    "# in each columns. This will use boxplot's data argument.\n",
    "\n",
    "plt.subplots(figsize=(12, 8))\n",
    "sns.boxplot(data=df1_new)\n",
    "plt.xticks(rotation='vertical')\n",
    "plt.ylabel('Calories_level')\n",
    "plt.xlabel('Sodium_content');"
   ]
  },
  {
   "cell_type": "markdown",
   "id": "f14fc4fa",
   "metadata": {},
   "source": [
    "# Distributions Of Feature Values"
   ]
  },
  {
   "cell_type": "code",
   "execution_count": 246,
   "id": "eafadfcc",
   "metadata": {},
   "outputs": [
    {
     "data": {
      "image/png": "[encoded data removed]",
      "text/plain": [
       "<Figure size 1500x1000 with 9 Axes>"
      ]
     },
     "metadata": {},
     "output_type": "display_data"
    }
   ],
   "source": [
    "#Call data's `hist` method to plot histograms of each of the numeric features\n",
    "#Passed it an argument figsize=(15,10)\n",
    "#Calling plt.subplots_adjust() with an argument hspace=0.5 to adjust the spacing\n",
    "\n",
    "df1_new.hist(figsize = (15, 10))\n",
    "plt.subplots_adjust(hspace=0.5);\n"
   ]
  },
  {
   "cell_type": "markdown",
   "id": "af3c307f",
   "metadata": {},
   "source": [
    "Analysing which features are concerning, these distributions are much better. There are clearly some skewed distributions, so will keep an eye on TransFat(g), SaturatedFat(g) and DietaryFibre(g).\n",
    "\n",
    "Based on the shape of data distribution, here are some other observations:\n",
    "\n",
    "Sodium(mg), TransFat(g) and Protein(g) are somewhat right-skewed distribution (positively skewed) with some outliers that verify the high content of some of the starbucks drinks. \n",
    "\n",
    "Calories and TotalCarbohydrates(g) are somewhat symmetric and normal distributed with quite a bell curve.\n",
    "\n",
    "Cholesterol(mg) and Sugars(g) are somewhat non-symmetric bimodal distribution with two modes.\n"
   ]
  },
  {
   "cell_type": "markdown",
   "id": "317a7db1",
   "metadata": {},
   "source": [
    "# Target Feature"
   ]
  },
  {
   "cell_type": "markdown",
   "id": "c4d1aabb",
   "metadata": {},
   "source": [
    "Is there any relationship between \"Sodium(mg)\" and \"Calories\"?"
   ]
  },
  {
   "cell_type": "code",
   "execution_count": 256,
   "id": "bd3e5350",
   "metadata": {},
   "outputs": [
    {
     "data": {
      "image/png": "[encoded data removed]",
      "text/plain": [
       "<Figure size 640x480 with 1 Axes>"
      ]
     },
     "metadata": {},
     "output_type": "display_data"
    }
   ],
   "source": [
    "#Use data's `plot()` method to create a scatterplot (kind='scatter') with 'Sodium(mg)' on the x-axis and\n",
    "#'Calories' on the y-axis\n",
    "df1_new.plot(x=\"Sodium(mg)\", y=\"Calories\", kind= \"scatter\");"
   ]
  },
  {
   "cell_type": "markdown",
   "id": "cbec895c",
   "metadata": {},
   "source": [
    "These both features are independent of each other and there is no relationship between these features."
   ]
  },
  {
   "cell_type": "markdown",
   "id": "e4deffdc",
   "metadata": {},
   "source": [
    "# Conclusion"
   ]
  },
  {
   "cell_type": "markdown",
   "id": "0b576ef7",
   "metadata": {},
   "source": [
    "Starbucks Corporation, an American multinational chain of coffeehouses and roastery reserves headquartered in Seattle, Washington is known for introducing a wide variety of coffee experiences. They started as a coffee bean wholesaler but soon transitioned into a coffee shop. \n",
    "\n",
    "Starbucks serves hot and cold drinks, whole-bean coffee, micro-ground instant coffee, espresso, caffe latte, full and loose-leaf teas, juices, Frappuccino beverages, pastries, and snacks.\n",
    "\n",
    "To better understand Starbucks beverage nutritional facts, I explored their drinks data among various beverage categories including coffees, teas and frappucino's.\n",
    "\n",
    "Here are some key observations:\n",
    "\n",
    "The biggest culprit is Frappucino Blended Coffee, which trumps all other Starbucks drinks in calorie count and grams of carbs, as it has a whopping 50 grams of Sugars.\n",
    "\n",
    "Smoothies are another highest Caloried drink with >250 calorie content (highest among Starbucks drinks) and > 50gm of Cholesterol. \n",
    "\n",
    "Instant Coffee is the least caloried drink with no sugar, carbs and cholestrol content. \n",
    "\n"
   ]
  },
  {
   "cell_type": "code",
   "execution_count": null,
   "id": "921a5edd",
   "metadata": {},
   "outputs": [],
   "source": []
  }
 ],
 "metadata": {
  "kernelspec": {
   "display_name": "Python 3 (ipykernel)",
   "language": "python",
   "name": "python3"
  },
  "language_info": {
   "codemirror_mode": {
    "name": "ipython",
    "version": 3
   },
   "file_extension": ".py",
   "mimetype": "text/x-python",
   "name": "python",
   "nbconvert_exporter": "python",
   "pygments_lexer": "ipython3",
   "version": "3.11.7"
  }
 },
 "nbformat": 4,
 "nbformat_minor": 5
}
